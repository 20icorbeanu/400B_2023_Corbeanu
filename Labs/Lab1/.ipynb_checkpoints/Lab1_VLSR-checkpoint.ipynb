{
 "cells": [
  {
   "cell_type": "markdown",
   "metadata": {},
   "source": [
    "# In Class Lab 1\n",
    "\n",
    "### Due by 5 PM Jan 31st in your github repository 'Labs/Lab1' folder\n",
    "\n",
    "## Part A:  The Local Standard of Rest\n",
    "Proper motion of Sgr A* from Reid & Brunthaler 2004\n",
    "$\\mu = 6.379$ mas/yr \n",
    "\n",
    "Peculiar motion of the sun, $v_\\odot$ = 12.24 km/s  (Schonrich 2010)\n",
    "\n",
    "\n",
    "$v_{tan} = 4.74 \\frac{\\mu}{\\rm mas/yr} \\frac{R_o}{\\rm kpc} = V_{LSR} + v_\\odot$\n",
    "\n",
    "\n",
    "### a)\n",
    "\n",
    "Create a function called VLSR to compute the local standard of res (V$_{LSR}$).\n",
    "\n",
    "The function should take as input: the solar radius (R$_o$), the proper motion (mu)\n",
    "and the peculiar motion of the sun in the $v_\\odot$ direction.\n",
    "\n",
    "Compute V$_{LSR}$ using three different values R$_o$: \n",
    "1. Water Maser Distance for the Sun :  R$_o$ = 8.34 kpc   (Reid 2014 ApJ 783) \n",
    "2. GRAVITY Collaboration Distance for the Sun:  R$_o$ = 8.178 kpc   (Abuter+2019 A&A 625)\n",
    "3. Value for Distance to Sun listed in Sparke & Gallagher : R$_o$ = 7.9 kpc \n"
   ]
  },
  {
   "cell_type": "code",
   "execution_count": 1,
   "metadata": {},
   "outputs": [],
   "source": [
    "# Import Modules \n",
    "import numpy as np # import numpy\n",
    "import astropy.units as u # import astropy units\n",
    "from astropy import constants as const # import astropy constants"
   ]
  },
  {
   "cell_type": "code",
   "execution_count": 6,
   "metadata": {},
   "outputs": [],
   "source": [
    "#Function: To calculate the local standard of res (V_lsr) using Solar Radius, proper motion, peculiar motion of sun.\n",
    "#Arguments: \n",
    "#       1) R0 is the solar radius in units of kpc\n",
    "#       2) mu is the proper motion in units of mas/yr\n",
    "#       3) v is the peculiar motion of the sun, in that direcdtion in units of km/s\n",
    "#Return: The local standard of res, which is unitless\n",
    "def VLSR(R0, mu, v):\n",
    "    return 4.74*(mu/(u.mas/u.yr))*(R0/u.kpc) - v"
   ]
  },
  {
   "cell_type": "code",
   "execution_count": 10,
   "metadata": {},
   "outputs": [
    {
     "name": "stdout",
     "output_type": "stream",
     "text": [
      "Local Standard Res for Water Master Distance for sun is 239.9320764\n",
      "Local Standard Res for GRAVITY collaboraiton distance for sun is 235.06400634000002\n",
      "Local Standard Res for Sparkle & Gallagher distance for sun is 226.628034\n"
     ]
    }
   ],
   "source": [
    "#Running VLSR function for 3 different radii assuming mu=6.379 mas/yr and v=12.24 km/s assuming const across the 3 radii\n",
    "#setting initial conditions\n",
    "mu, v = 6.379*(u.mas/u.yr), 12.24\n",
    "#First stating the 3 radii and the names for each\n",
    "radii = np.array([8.34, 8.179, 7.9])*u.kpc\n",
    "radii_name = np.array(['Water Master Distance for sun','GRAVITY collaboraiton distance for sun','Sparkle & Gallagher distance for sun'])\n",
    "VLSR_data = np.zeros_like(radii_name)\n",
    "for i in range(len(radii)):\n",
    "    V_lsr = VLSR(radii[i],mu,v)\n",
    "    print(f'Local Standard Res for {radii_name[i]} is {V_lsr}')\n",
    "    VLSR_data[i] = (V_lsr)"
   ]
  },
  {
   "cell_type": "markdown",
   "metadata": {},
   "source": [
    "### b)\n",
    "\n",
    "compute the orbital period of the sun in Gyr using R$_o$ from the GRAVITY Collaboration (assume circular orbit)\n",
    "\n",
    "Note that 1 km/s $\\sim$ 1kpc/Gyr"
   ]
  },
  {
   "cell_type": "code",
   "execution_count": 35,
   "metadata": {},
   "outputs": [
    {
     "name": "stdout",
     "output_type": "stream",
     "text": [
      "The Period in Gyr is 0.21862204013102007 according to Radius from GRAVITY collaboration\n"
     ]
    }
   ],
   "source": [
    "#Compute orbital period we use our VLSR value, since this value tells us the approximate rotational speed of the sun\n",
    "#and we apply the formula T=2pi/w where w=rotational velocity or the VLSR value\n",
    "#For the GRAVITY collaboration, this is our second value in our data set\n",
    "T = (2*np.pi*radii[1]/u.kpc)/(float(VLSR_data[1]))\n",
    "print(f'The Period in Gyr is {T} according to Radius from GRAVITY collaboration')"
   ]
  },
  {
   "cell_type": "markdown",
   "metadata": {},
   "source": [
    "### c)\n",
    "\n",
    "Compute the number of rotations about the GC over the age of the universe (13.8 Gyr)"
   ]
  },
  {
   "cell_type": "code",
   "execution_count": 36,
   "metadata": {},
   "outputs": [
    {
     "name": "stdout",
     "output_type": "stream",
     "text": [
      "63.12263846650442\n"
     ]
    }
   ],
   "source": [
    "#since period is GYR/rotation, to calculate numb of rotations, we do Gyr/rotation (age of universe/T)\n",
    "rotations = 13.8/T\n",
    "print(rotations)"
   ]
  },
  {
   "cell_type": "markdown",
   "metadata": {},
   "source": [
    "## Part B  Dark Matter Density Profiles\n",
    "\n",
    "### a)\n",
    "Try out Fitting Rotation Curves \n",
    "[here](http://wittman.physics.ucdavis.edu/Animations/RotationCurve/GalacticRotation.html)\n",
    "\n",
    "\n",
    "### b)\n",
    "\n",
    "\n",
    "In the Isothermal Sphere model, what is the mass enclosed within the solar radius (R$_o$) in units of M$_\\odot$? \n",
    "\n",
    "Recall that for the Isothermal sphere :\n",
    "$\\rho(r) = \\frac{V_{LSR}^2}{4\\pi G r^2}$\n",
    "\n",
    "Where $G$ = 4.4985e-6 kpc$^3$/Gyr$^2$/M$_\\odot$, r is in kpc and $V_{LSR}$ is in km/s\n",
    "\n",
    "What about at 260 kpc (in units of  M$_\\odot$) ? "
   ]
  },
  {
   "cell_type": "code",
   "execution_count": 44,
   "metadata": {},
   "outputs": [
    {
     "name": "stdout",
     "output_type": "stream",
     "text": [
      "the mass for solar radius is 605979.7710347895 55255.1 solMass\n",
      "the mass for 260kpc is 19265681.15297692 55255.1 solMass\n"
     ]
    }
   ],
   "source": [
    "#Using the given equation, we set up and solve using our SOlar Radius as obtained from GRAVITY collaboration which is about\n",
    "#R0 = 8.178kpc\n",
    "V_lsr = VLSR_data[1]\n",
    "def m(r,V_lsr):\n",
    "    p = V_lsr**2/(4*np.pi*4.4985*10**(-6)*(u.kpc**3/u.Gyr**2/u.solMass)*r**2)  #gets the density\n",
    "    #since this is the density profile, to get mass enclosed, assuming a sphere we mutiply by volume to get answer\n",
    "    V = (4/3)*np.pi*r**3\n",
    "    return p*V\n",
    "print(f'the mass for solar radius is {m(8.178*u.kpc,V_lsr*(u.kpc/u.Gyr))}')\n",
    "print(f'the mass for 260kpc is {m(260*u.kpc,V_lsr*(u.kpc/u.Gyr))}')"
   ]
  },
  {
   "cell_type": "markdown",
   "metadata": {},
   "source": [
    "## c) \n",
    "\n",
    "The Leo I satellite is one of the fastest moving satellite galaxies we know. \n",
    "\n",
    "\n",
    "It is moving with 3D velocity of magnitude: Vtot = 196 km/s at a distance of 260 kpc (Sohn 2013 ApJ 768)\n",
    "\n",
    "If we assume that Leo I is moving at the escape speed:\n",
    "\n",
    "$v_{esc}^2 = 2|\\Phi| = 2 \\int G \\frac{\\rho(r)}{r}dV $ \n",
    "\n",
    "and assuming the Milky Way is well modeled by a Hernquist Sphere with a scale radius of $a$= 30 kpc, what is the minimum mass of the Milky Way (in units of M$_\\odot$) ?  \n",
    "\n",
    "How does this compare to estimates of the mass assuming the Isothermal Sphere model at 260 kpc (from your answer above)"
   ]
  },
  {
   "cell_type": "code",
   "execution_count": null,
   "metadata": {},
   "outputs": [],
   "source": []
  }
 ],
 "metadata": {
  "kernelspec": {
   "display_name": "Python 3",
   "language": "python",
   "name": "python3"
  },
  "language_info": {
   "codemirror_mode": {
    "name": "ipython",
    "version": 3
   },
   "file_extension": ".py",
   "mimetype": "text/x-python",
   "name": "python",
   "nbconvert_exporter": "python",
   "pygments_lexer": "ipython3",
   "version": "3.8.8"
  }
 },
 "nbformat": 4,
 "nbformat_minor": 2
}
